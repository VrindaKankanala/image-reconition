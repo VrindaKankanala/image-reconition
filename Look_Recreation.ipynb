{
 "cells": [
  {
   "cell_type": "code",
   "execution_count": 8,
   "id": "1cd6f971-b328-42e6-b635-687f899f5d25",
   "metadata": {},
   "outputs": [
    {
     "name": "stdout",
     "output_type": "stream",
     "text": [
      "Found 63 images belonging to 4 classes.\n",
      "Found 15 images belonging to 4 classes.\n"
     ]
    }
   ],
   "source": [
    "import os\n",
    "import numpy as np\n",
    "from tensorflow.keras.preprocessing.image import ImageDataGenerator\n",
    "from tensorflow.keras.models import Sequential\n",
    "from tensorflow.keras.layers import Conv2D, MaxPooling2D, Flatten, Dense\n",
    "from tensorflow.keras.optimizers import Adam\n",
    "from tensorflow.keras.preprocessing.image import load_img, img_to_array\n",
    "\n",
    "# Define the paths\n",
    "dataset_dir = 'C:/Users/RITHIKA/rithika/FinalModel/Dataset'\n",
    "celebrity_dir = 'celebrities'\n",
    "product_dir = 'products'\n",
    "\n",
    "# Define categories manually for now (customize as needed)\n",
    "categories = ['Emily', 'Rani', 'Anthony', 'Damon' ]\n",
    "\n",
    "# Create dataset directories\n",
    "for category in categories:\n",
    "    os.makedirs(os.path.join(dataset_dir, category), exist_ok=True)\n",
    "\n",
    "# Define ImageDataGenerator for training and validation\n",
    "datagen = ImageDataGenerator(validation_split=0.2, rescale=1./255)\n",
    "\n",
    "# Training and validation generators\n",
    "train_generator = datagen.flow_from_directory(\n",
    "    dataset_dir,\n",
    "    target_size=(224, 224),\n",
    "    batch_size=32,\n",
    "    class_mode='categorical',\n",
    "    subset='training'\n",
    ")\n",
    "\n",
    "validation_generator = datagen.flow_from_directory(\n",
    "    dataset_dir,\n",
    "    target_size=(224, 224),\n",
    "    batch_size=32,\n",
    "    class_mode='categorical',\n",
    "    subset='validation'\n",
    ")\n"
   ]
  },
  {
   "cell_type": "code",
   "execution_count": 9,
   "id": "6e582fb4-ab06-4be0-98af-5461ca7eb5c7",
   "metadata": {},
   "outputs": [
    {
     "name": "stdout",
     "output_type": "stream",
     "text": [
      "Epoch 1/15\n",
      "1/1 [==============================] - 0s 180ms/step - loss: 1.3949 - accuracy: 0.1875\n",
      "Epoch 2/15\n",
      "1/1 [==============================] - 0s 60ms/step - loss: 16.0663 - accuracy: 0.2812\n",
      "Epoch 3/15\n",
      "1/1 [==============================] - 0s 65ms/step - loss: 11.5931 - accuracy: 0.2500\n",
      "Epoch 4/15\n",
      "1/1 [==============================] - 0s 56ms/step - loss: 9.1832 - accuracy: 0.2258\n",
      "Epoch 5/15\n",
      "1/1 [==============================] - 0s 44ms/step - loss: 3.7984 - accuracy: 0.3226\n",
      "Epoch 6/15\n",
      "1/1 [==============================] - 0s 45ms/step - loss: 2.5409 - accuracy: 0.1875\n",
      "Epoch 7/15\n",
      "1/1 [==============================] - 0s 131ms/step - loss: 1.8242 - accuracy: 0.1935\n",
      "Epoch 8/15\n",
      "1/1 [==============================] - 0s 154ms/step - loss: 0.9530 - accuracy: 0.6562\n",
      "Epoch 9/15\n",
      "1/1 [==============================] - 0s 186ms/step - loss: 0.9567 - accuracy: 0.9062\n",
      "Epoch 10/15\n",
      "1/1 [==============================] - 0s 129ms/step - loss: 0.8297 - accuracy: 0.6562\n",
      "Epoch 11/15\n",
      "1/1 [==============================] - 0s 133ms/step - loss: 0.7629 - accuracy: 0.6875\n",
      "Epoch 12/15\n",
      "1/1 [==============================] - 0s 145ms/step - loss: 0.6083 - accuracy: 0.7500\n",
      "Epoch 13/15\n",
      "1/1 [==============================] - 0s 139ms/step - loss: 0.5011 - accuracy: 0.9688\n",
      "Epoch 14/15\n",
      "1/1 [==============================] - 0s 109ms/step - loss: 0.2154 - accuracy: 0.9688\n",
      "Epoch 15/15\n",
      "1/1 [==============================] - 0s 74ms/step - loss: 0.1289 - accuracy: 1.0000\n"
     ]
    }
   ],
   "source": [
    "# Define the model\n",
    "model = Sequential([\n",
    "    Conv2D(32, (3, 3), activation='relu', input_shape=(224, 224, 3)),\n",
    "    MaxPooling2D((2, 2)),\n",
    "    Conv2D(64, (3, 3), activation='relu'),\n",
    "    MaxPooling2D((2, 2)),\n",
    "    Flatten(),\n",
    "    Dense(128, activation='relu'),\n",
    "    Dense(len(categories), activation='softmax')\n",
    "])\n",
    "\n",
    "# Compile the model\n",
    "model.compile(optimizer=Adam(), loss='categorical_crossentropy', metrics=['accuracy'])\n",
    "\n",
    "# Train the model\n",
    "history = model.fit(\n",
    "    train_generator,\n",
    "    steps_per_epoch=train_generator.samples // 32,\n",
    "    validation_data=validation_generator,\n",
    "    validation_steps=validation_generator.samples // 32,\n",
    "    epochs=15\n",
    ")\n",
    "\n",
    "# Save the model\n",
    "model.save('trained_model.h5')\n"
   ]
  },
  {
   "cell_type": "code",
   "execution_count": 10,
   "id": "ef8cec40-ed03-4f87-9de1-f303bf131200",
   "metadata": {},
   "outputs": [
    {
     "name": "stdout",
     "output_type": "stream",
     "text": [
      "1/1 [==============================] - 0s 3ms/step - loss: 0.8790 - accuracy: 0.5333\n",
      "Validation Accuracy: 53.33%\n"
     ]
    }
   ],
   "source": [
    "# Evaluate the model\n",
    "evaluation = model.evaluate(validation_generator)\n",
    "print(f\"Validation Accuracy: {evaluation[1] * 100:.2f}%\")\n"
   ]
  },
  {
   "cell_type": "code",
   "execution_count": null,
   "id": "bba39065-5be6-433c-bd91-0458752328ec",
   "metadata": {},
   "outputs": [],
   "source": []
  }
 ],
 "metadata": {
  "kernelspec": {
   "display_name": "Python 3 (ipykernel)",
   "language": "python",
   "name": "python3"
  },
  "language_info": {
   "codemirror_mode": {
    "name": "ipython",
    "version": 3
   },
   "file_extension": ".py",
   "mimetype": "text/x-python",
   "name": "python",
   "nbconvert_exporter": "python",
   "pygments_lexer": "ipython3",
   "version": "3.8.19"
  }
 },
 "nbformat": 4,
 "nbformat_minor": 5
}
