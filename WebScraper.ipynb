{
 "cells": [
  {
   "cell_type": "code",
   "execution_count": 5,
   "id": "827d1de9-8b3e-4b9d-a9b7-3128036d30db",
   "metadata": {},
   "outputs": [
    {
     "name": "stdout",
     "output_type": "stream",
     "text": [
      "Failed to download /images/branding/searchlogo/1x/googlelogo_desk_heirloom_color_150x55dp.gif\n",
      "Downloaded https://encrypted-tbn0.gstatic.com/images?q=tbn:ANd9GcQ4JcdOtGAt1yBKQ7l_jYXEXZp_zTAnglxEFYDJljKB2_FiLhMviaXhKfFp_wI&s\n",
      "Downloaded https://encrypted-tbn0.gstatic.com/images?q=tbn:ANd9GcTjVz3BsLD8jaBbH1dtaeFG7XVKATS58ruoQnl-fXUCOO3RDdHIdnsnFsMmWgM&s\n",
      "Downloaded https://encrypted-tbn0.gstatic.com/images?q=tbn:ANd9GcQVHQlQxFyGp7rhAtfgIx_QwlDS0653tShS-LaN2Hnwi-lAYkuOhIRwo89uxQ&s\n",
      "Downloaded https://encrypted-tbn0.gstatic.com/images?q=tbn:ANd9GcSIUR0Vhl2hkvxFGFZbHMIj9TUn6QZxNrqlIR1zs-OSVjF2MSeRCN0TNaN2-w&s\n",
      "Downloaded https://encrypted-tbn0.gstatic.com/images?q=tbn:ANd9GcT4xOmygJr1KuXA_amTahqNLWtUTe-EvdHG3woitPw9JTxa4L2fucW7hGwAxRU&s\n",
      "Downloaded https://encrypted-tbn0.gstatic.com/images?q=tbn:ANd9GcQx5-Y_NZcMdB82gnkTtyv4_fxXsIR948cSlL9r5APEJx2Jq1Gx2Bkfbv7eb9M&s\n",
      "Downloaded https://encrypted-tbn0.gstatic.com/images?q=tbn:ANd9GcQymV-apR1q8fnIdfGOd4uc6zYP69BmcwEljAphLZqW8fXg6aFf5QEFQssMOQ&s\n",
      "Downloaded https://encrypted-tbn0.gstatic.com/images?q=tbn:ANd9GcSwvOLezFblotN0UWe19N2tjHP9Khj_OJ78t8FmQlzwMYRCKzpUedp0JhEdsXc&s\n",
      "Downloaded https://encrypted-tbn0.gstatic.com/images?q=tbn:ANd9GcQDyzZ-lSfjfaVB9wH69m9CoTm6FsSIUNnH-ULxmmZrsfO7m67Wa4doSaifT5w&s\n",
      "Downloaded https://encrypted-tbn0.gstatic.com/images?q=tbn:ANd9GcTZRCtm8XLOe7y1HJ5bNnR4b5-qKQi1jRvD83-nPnT1dmb_G3uIqNBQZg2mORw&s\n",
      "Downloaded https://encrypted-tbn0.gstatic.com/images?q=tbn:ANd9GcSf52rO9hl3XbcPQCjlAixvaniwhDFpqY0_xsAefGk-1ePrP7Dc6fbeZIkXgA&s\n",
      "Downloaded https://encrypted-tbn0.gstatic.com/images?q=tbn:ANd9GcSJ5gxa1SretnqmjmZVok-Oaw7w3GACbHunpNCMRp5JYSNk3RJYaNx9gnMESaY&s\n",
      "Downloaded https://encrypted-tbn0.gstatic.com/images?q=tbn:ANd9GcTvQochohMfAgNmwkXoNTdjKt4vp2dqsdBstDfHwvuiz0IR2tqwqIpEdixVU48&s\n",
      "Downloaded https://encrypted-tbn0.gstatic.com/images?q=tbn:ANd9GcQLqmSuwTG4x4Z4h8YfwZoV97r_vG22jLgH3Pai9mHrR0r8AvUf52q3tU7sGA&s\n",
      "Downloaded https://encrypted-tbn0.gstatic.com/images?q=tbn:ANd9GcS5UY5AG3D6xv8YSOImogiMq0Ee6Zf2sD8MeI51240IOsc16t7OHToU9p50UvA&s\n",
      "Downloaded https://encrypted-tbn0.gstatic.com/images?q=tbn:ANd9GcS2aM_2F9hOtLIg02VLsj-7TCCAz_SLKzqooBcmBZdJa-jT4nltXPmZ3d56qj8&s\n",
      "Downloaded https://encrypted-tbn0.gstatic.com/images?q=tbn:ANd9GcR59L6aF8Vpgzf4AMfM-jnRXoT8CYCmyznCzIDjzrHtPr4WwtFiVEMuen0C&s\n",
      "Downloaded https://encrypted-tbn0.gstatic.com/images?q=tbn:ANd9GcRLwFRjNbgoyCbjh8X1ljkdpeVjhztFnfvilVT7YXeSoAJCREphngNdqXdP&s\n",
      "Downloaded https://encrypted-tbn0.gstatic.com/images?q=tbn:ANd9GcTIlfnLrP-IidbLl9Ds2v34xNX4PQglUr_swKQMlj8sBfXLN6ZDgeX5SD8RXw&s\n",
      "Downloaded https://encrypted-tbn0.gstatic.com/images?q=tbn:ANd9GcTSIGqc9j56dqWRPP6j7PG0L1faXsU7_98PcXg-neZFNiwbeobt4h5mlA_og9c&s\n"
     ]
    }
   ],
   "source": [
    "import os\n",
    "import requests\n",
    "from bs4 import BeautifulSoup\n",
    "\n",
    "def download_images(url, folder):\n",
    "    if not os.path.exists(folder):\n",
    "        os.makedirs(folder)\n",
    "\n",
    "    response = requests.get(url)\n",
    "    soup = BeautifulSoup(response.text, 'html.parser')\n",
    "    img_tags = soup.find_all('img')\n",
    "\n",
    "    for i, img in enumerate(img_tags):\n",
    "        img_url = img.get('src')\n",
    "        try:\n",
    "            img_data = requests.get(img_url).content\n",
    "            with open(f'{folder}/image_{i}.jpg', 'wb') as handler:\n",
    "                handler.write(img_data)\n",
    "            print(f'Downloaded {img_url}')\n",
    "        except:\n",
    "            print(f'Failed to download {img_url}')\n",
    "\n",
    "celebrity_url = 'https://www.google.com/search?sca_esv=c90665de34067668&hl=en&sxsrf=ADLYWIKRmfaQic0oegPigG2EKfCSa8PfxQ:1720976672164&q=rocky+aur+rani+alia+sarees&udm=2&fbs=AEQNm0DPvcmG_nCbmwtBO9j6YBzM68ZanC7g01Skprhw5JoufVCiMv-hxC44jt6JduRQysBab-bgQXjPraaWFXMvOy8Kr1OAG3K-aj3De4zf3-LxKtkBtWaSCp743evHzhY6J0rIQUCXki65vOxhV0cGJtj0S1dF8YREnKrWtJctBkTv8-bs83YpB7p3IMTdYvjisDEty1xSxeLS4B_TKFXUiCrenmEMcA&sa=X&ved=2ahUKEwi_5dfZgaeHAxX8UGcHHcDmDaMQtKgLegQIDRAB&biw=1536&bih=695&dpr=1.25'\n",
    "\n",
    "\n",
    "download_images(celebrity_url,'C:/Users/RITHIKA/rithika/FinalModel/Dataset/Rani')\n"
   ]
  },
  {
   "cell_type": "code",
   "execution_count": null,
   "id": "6bc8dd6e-0bbd-4d73-b9c3-2bd6316a161f",
   "metadata": {},
   "outputs": [],
   "source": []
  }
 ],
 "metadata": {
  "kernelspec": {
   "display_name": "Python 3 (ipykernel)",
   "language": "python",
   "name": "python3"
  },
  "language_info": {
   "codemirror_mode": {
    "name": "ipython",
    "version": 3
   },
   "file_extension": ".py",
   "mimetype": "text/x-python",
   "name": "python",
   "nbconvert_exporter": "python",
   "pygments_lexer": "ipython3",
   "version": "3.8.19"
  }
 },
 "nbformat": 4,
 "nbformat_minor": 5
}
